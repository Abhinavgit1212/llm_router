{
 "cells": [
  {
   "cell_type": "code",
   "execution_count": null,
   "metadata": {},
   "outputs": [],
   "source": [
    "# Notebook: run_on_notebook.ipynb\n",
    "\n",
    "from src.router import app\n",
    "from flask import Flask, jsonify\n",
    "import requests\n",
    "\n",
    "# Function to test the API locally\n",
    "def test_routing():\n",
    "    url = \"http://127.0.0.1:8080/route\"\n",
    "    payload = {\n",
    "        \"type\": \"dynamic\",\n",
    "        \"text\": \"Explain the theory of relativity in simple terms.\",\n",
    "        \"metrics\": {\n",
    "            \"latency\": 200,\n",
    "            \"cost\": 0.3,\n",
    "            \"accuracy\": 0.95\n",
    "        }\n",
    "    }\n",
    "    response = requests.post(url, json=payload)\n",
    "    return response.json()\n",
    "\n",
    "# Start Flask app in Notebook\n",
    "if __name__ == \"__main__\":\n",
    "    from multiprocessing import Process\n",
    "\n",
    "    def run_flask():\n",
    "        app.run(port=8080)\n",
    "        \n",
    "    p = Process(target=run_flask)\n",
    "    p.start()\n",
    "\n",
    "    # Test the routing\n",
    "    result = test_routing()\n",
    "    print(\"Routing Result:\", result)\n",
    "\n",
    "    # Stop Flask app\n",
    "    p.terminate()\n",
    "    p.join()\n"
   ]
  }
 ],
 "metadata": {
  "language_info": {
   "name": "python"
  }
 },
 "nbformat": 4,
 "nbformat_minor": 2
}
